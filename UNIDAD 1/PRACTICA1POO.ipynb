{
  "nbformat": 4,
  "nbformat_minor": 0,
  "metadata": {
    "colab": {
      "provenance": [],
      "authorship_tag": "ABX9TyOcvcvbu48awCXIk22dCwim",
      "include_colab_link": true
    },
    "kernelspec": {
      "name": "python3",
      "display_name": "Python 3"
    },
    "language_info": {
      "name": "python"
    }
  },
  "cells": [
    {
      "cell_type": "markdown",
      "metadata": {
        "id": "view-in-github",
        "colab_type": "text"
      },
      "source": [
        "<a href=\"https://colab.research.google.com/github/25040150-source/Programaci-nOO/blob/main/UNIDAD%201/PRACTICA1POO.ipynb\" target=\"_parent\"><img src=\"https://colab.research.google.com/assets/colab-badge.svg\" alt=\"Open In Colab\"/></a>"
      ]
    },
    {
      "cell_type": "markdown",
      "source": [
        "##**Programación Orientada a Objetos**\n",
        "#Unidad 1.- Introducción a POO python\n",
        "Maestro: José Gabriel Rodriguez Rivas\n",
        "Alumno: Marcela Pérez Gurrola"
      ],
      "metadata": {
        "id": "PhtXJYZt_Rn7"
      }
    },
    {
      "cell_type": "code",
      "source": [
        "# Declarar Variables\n",
        "# En Python no hay necesidad de declarar el tipo de variable\n",
        "# Cuando se le asigna el valor, automaticamente python ya sabe de que tipo es\n",
        "# Python es CASE SENSITIVE, es decir que es sensible a mayusculas a la hora de\n",
        "# declarar variables, por lo tanto no es lo mismo la variable x que la variable X\n",
        "X=5\n",
        "msg=\"Hola Mundo\"\n",
        "print(X, msg)"
      ],
      "metadata": {
        "colab": {
          "base_uri": "https://localhost:8080/"
        },
        "id": "N-ABWhwl493a",
        "outputId": "4065ddbd-011b-452d-bf7b-c0efc5c397d6"
      },
      "execution_count": 11,
      "outputs": [
        {
          "output_type": "stream",
          "name": "stdout",
          "text": [
            "5 Hola Mundo\n"
          ]
        }
      ]
    },
    {
      "cell_type": "code",
      "source": [
        "# Python es debilmente tipado, es decir, no hay necesidad de declarar el tipo\n",
        "# de variable, y además, la misma variable en un momento puede ser entera y en\n",
        "# otra string o booleana\n",
        "X=1\n",
        "print(type (X))\n",
        "X=\"Hola\"\n",
        "print(type (X))"
      ],
      "metadata": {
        "colab": {
          "base_uri": "https://localhost:8080/"
        },
        "id": "JxB38cW-5BpN",
        "outputId": "8cc079ef-916b-43fb-a521-cd2b06030082"
      },
      "execution_count": 12,
      "outputs": [
        {
          "output_type": "stream",
          "name": "stdout",
          "text": [
            "<class 'int'>\n",
            "<class 'str'>\n"
          ]
        }
      ]
    },
    {
      "cell_type": "code",
      "source": [
        "# Input es para el ingreso de datos por parte del usuario\n",
        "variable=input(\"Escribe tu nombre: \")\n",
        "print(\"Tu nombre es: \", variable)"
      ],
      "metadata": {
        "colab": {
          "base_uri": "https://localhost:8080/"
        },
        "id": "HWMnyUbQ5Fmq",
        "outputId": "e25443b6-0b66-47c9-ff11-6d73ca33aa98"
      },
      "execution_count": 13,
      "outputs": [
        {
          "output_type": "stream",
          "name": "stdout",
          "text": [
            "Escribe tu nombre: marcela\n",
            "Tu nombre es:  marcela\n"
          ]
        }
      ]
    },
    {
      "cell_type": "code",
      "source": [
        "# \\n es para dar un salto de renglon\n",
        "nom=input(\"¿Me puedes dar tu nombre porfavor? \")\n",
        "apll=input(\"¿Me puedes dar tu apellido porfavor? \")\n",
        "print(\"Gracias\")\n",
        "print(\"\\nTu nombre es\",nom,apll,\".\")"
      ],
      "metadata": {
        "colab": {
          "base_uri": "https://localhost:8080/"
        },
        "id": "rGL4qfLX5HrD",
        "outputId": "c70815fc-af50-417e-a591-9714cea7b144"
      },
      "execution_count": 14,
      "outputs": [
        {
          "output_type": "stream",
          "name": "stdout",
          "text": [
            "¿Me puedes dar tu nombre porfavor? maria\n",
            "¿Me puedes dar tu apellido porfavor? ramirez\n",
            "Gracias\n",
            "\n",
            "Tu nombre es maria ramirez .\n"
          ]
        }
      ]
    },
    {
      "cell_type": "code",
      "source": [
        "# El dato ingresado en input se forma de tipo stirng, y al multiplicar\n",
        "# lo que hace es concatenarlo 5 veces en este caso\n",
        "x=input(\"Dame un numero para multiplicar \")\n",
        "z=x*5\n",
        "print(z)"
      ],
      "metadata": {
        "colab": {
          "base_uri": "https://localhost:8080/"
        },
        "id": "iDiLOgQ65McT",
        "outputId": "b0e7fcd9-6724-4a18-9c3a-7c3e9d898daa"
      },
      "execution_count": 15,
      "outputs": [
        {
          "output_type": "stream",
          "name": "stdout",
          "text": [
            "Dame un numero para multiplicar 8\n",
            "88888\n"
          ]
        }
      ]
    },
    {
      "cell_type": "code",
      "source": [
        "# Se especifica el tipo de dato el cual se va a ingresar antes del input\n",
        "x=int(input(\"Dame un numero para multiplicar \"))\n",
        "z=x*5\n",
        "print(z)"
      ],
      "metadata": {
        "colab": {
          "base_uri": "https://localhost:8080/"
        },
        "id": "NjY2trIl5PWk",
        "outputId": "26e18e8c-18a2-4061-a278-5e4ea2c5c87d"
      },
      "execution_count": 17,
      "outputs": [
        {
          "output_type": "stream",
          "name": "stdout",
          "text": [
            "Dame un numero para multiplicar 7\n",
            "35\n"
          ]
        }
      ]
    },
    {
      "cell_type": "code",
      "source": [
        "# El doble asterisco ** es para elevar a una potencia, en este caso al cuadrado\n",
        "cateto_a=float(input(\"Inserta la longitu del primer cateto: \"))\n",
        "cateto_b=float(input(\"Inserta la longitu del Segundo cateto: \"))\n",
        "hipo=(cateto_a**2+cateto_b**2)**.5\n",
        "print(\"La longitud de la hipotenusa es: \",hipo)"
      ],
      "metadata": {
        "colab": {
          "base_uri": "https://localhost:8080/"
        },
        "id": "koKMcJHA6Gah",
        "outputId": "780da667-7eb7-448a-e785-54e705f2c716"
      },
      "execution_count": 18,
      "outputs": [
        {
          "output_type": "stream",
          "name": "stdout",
          "text": [
            "Inserta la longitu del primer cateto: 12\n",
            "Inserta la longitu del Segundo cateto: 34\n",
            "La longitud de la hipotenusa es:  36.05551275463989\n"
          ]
        }
      ]
    },
    {
      "cell_type": "code",
      "source": [
        "a=3000\n",
        "b=12500\n",
        "if b>a:\n",
        "  print(\"b es mayor que a\")\n",
        "  print(b,\"es mayor que\",a)\n",
        "else:\n",
        "  print(\"a es mayor que b\")\n",
        "  print(a,\"es mayor que\",b)\n",
        "print(\"Fin del if\")"
      ],
      "metadata": {
        "colab": {
          "base_uri": "https://localhost:8080/"
        },
        "id": "u9QantsP6Ls0",
        "outputId": "e88dd818-64fe-48d1-a3ba-2e4a018d290e"
      },
      "execution_count": 19,
      "outputs": [
        {
          "output_type": "stream",
          "name": "stdout",
          "text": [
            "b es mayor que a\n",
            "12500 es mayor que 3000\n",
            "Fin del if\n"
          ]
        }
      ]
    },
    {
      "cell_type": "code",
      "source": [
        "# Para evaluar mas de una condición\n",
        "# elif es una avreviatura de else if\n",
        "a=3000\n",
        "b=3000\n",
        "if b>a:\n",
        "  print(\"b es mayor que a\")\n",
        "  print(\"b vale ->\",b)\n",
        "elif a==b:\n",
        "  print(\"a es igual que b\")\n",
        "  print(\"a y b valen ->\",a)\n",
        "else:\n",
        "  print (\"a es mayor que b\")\n",
        "  print(\"a vale ->\",a)\n",
        "print(\"Fin del if\")"
      ],
      "metadata": {
        "colab": {
          "base_uri": "https://localhost:8080/"
        },
        "id": "YCF7r_uy6Rvd",
        "outputId": "b58a0341-fdaa-41fd-935f-5b29add1991f"
      },
      "execution_count": 20,
      "outputs": [
        {
          "output_type": "stream",
          "name": "stdout",
          "text": [
            "a es igual que b\n",
            "a y b valen -> 3000\n",
            "Fin del if\n"
          ]
        }
      ]
    },
    {
      "cell_type": "code",
      "source": [
        "# if simplificado en una sola linea\n",
        "# Primero se pone lo que se va a imprimir si la condición que está a su derecha\n",
        "# Se cumple, si no enseguida se pone el else para hacer la siguiente comparación\n",
        "x=50\n",
        "y=60\n",
        "print(\"x es mayor que y\") if (x>y) else print(\"y es mayor que x\")"
      ],
      "metadata": {
        "colab": {
          "base_uri": "https://localhost:8080/"
        },
        "id": "vuJTrkbX6Xwp",
        "outputId": "8a323a4b-ae8c-4d06-bb0b-3e8fbcf1bd5a"
      },
      "execution_count": 21,
      "outputs": [
        {
          "output_type": "stream",
          "name": "stdout",
          "text": [
            "y es mayor que x\n"
          ]
        }
      ]
    },
    {
      "cell_type": "code",
      "source": [
        "# el += es una avreviatura de x=x+1\n",
        "x=1\n",
        "while x<=10:\n",
        "  print(x)\n",
        "  x+=1\n",
        "print(\"Fuera del while\")"
      ],
      "metadata": {
        "colab": {
          "base_uri": "https://localhost:8080/"
        },
        "id": "BhI0kB5P6bwv",
        "outputId": "4e210f1f-0ebc-46a5-f591-e3adbee75a6d"
      },
      "execution_count": 22,
      "outputs": [
        {
          "output_type": "stream",
          "name": "stdout",
          "text": [
            "1\n",
            "2\n",
            "3\n",
            "4\n",
            "5\n",
            "6\n",
            "7\n",
            "8\n",
            "9\n",
            "10\n",
            "Fuera del while\n"
          ]
        }
      ]
    },
    {
      "cell_type": "code",
      "source": [
        "# Dentro del while se puede agrergar un break\n",
        "# Este hace que se salga del ciclo independientemente de la condición inicial\n",
        "x=1\n",
        "while x<=1000:\n",
        "  print(x)\n",
        "  if x==10:\n",
        "    print(\"Entro en el if\")\n",
        "    break\n",
        "  x+=1\n",
        "print(\"Fuera del while\")"
      ],
      "metadata": {
        "colab": {
          "base_uri": "https://localhost:8080/"
        },
        "id": "3OadaYAF7vU7",
        "outputId": "0452f382-9b17-49c2-80d3-c455256fa0d5"
      },
      "execution_count": 23,
      "outputs": [
        {
          "output_type": "stream",
          "name": "stdout",
          "text": [
            "1\n",
            "2\n",
            "3\n",
            "4\n",
            "5\n",
            "6\n",
            "7\n",
            "8\n",
            "9\n",
            "10\n",
            "Entro en el if\n",
            "Fuera del while\n"
          ]
        }
      ]
    },
    {
      "cell_type": "code",
      "source": [
        "# Las tres comillas sirven para hacer un texto largo de multiples lineas\n",
        "while(True):\n",
        "  print(\"\"\"Selecciona una opción\n",
        "  1) Opción 1\n",
        "  2) Opción 2\n",
        "  3) Salir\"\"\")\n",
        "  opcion=input(\"¿Que opcion deseas?\")\n",
        "  if opcion=='1':\n",
        "    print(\"Seleccionaste la opción 1\\n\")\n",
        "  elif opcion=='2':\n",
        "    print(\"Seleccionaste la opción 2\\n\")\n",
        "  elif opcion=='3':\n",
        "    print(\"Seleccionaste salir\\n\")\n",
        "    break\n",
        "  else:\n",
        "    print(\"Opción desconocida, ingresa una opción de la lista\")\n",
        "print(\"Fuera del ciclo\")"
      ],
      "metadata": {
        "colab": {
          "base_uri": "https://localhost:8080/"
        },
        "id": "wYmtTZDZ72yX",
        "outputId": "6912fd13-6c89-473e-c09a-aa1ac10af888"
      },
      "execution_count": 24,
      "outputs": [
        {
          "output_type": "stream",
          "name": "stdout",
          "text": [
            "Selecciona una opción\n",
            "  1) Opción 1\n",
            "  2) Opción 2\n",
            "  3) Salir\n",
            "¿Que opcion deseas?1\n",
            "Seleccionaste la opción 1\n",
            "\n",
            "Selecciona una opción\n",
            "  1) Opción 1\n",
            "  2) Opción 2\n",
            "  3) Salir\n",
            "¿Que opcion deseas?3\n",
            "Seleccionaste salir\n",
            "\n",
            "Fuera del ciclo\n"
          ]
        }
      ]
    },
    {
      "cell_type": "code",
      "source": [
        "# Si no es especifica el rango inicial por default empieza en cero\n",
        "# Cuando se establece el limite o rango final siempre será ese valor menos 1\n",
        "for x in range(5):\n",
        "  print(x)"
      ],
      "metadata": {
        "colab": {
          "base_uri": "https://localhost:8080/"
        },
        "id": "wLtzsoXq76S0",
        "outputId": "0a633f7e-3854-434d-92d7-7a0709aa5b92"
      },
      "execution_count": 26,
      "outputs": [
        {
          "output_type": "stream",
          "name": "stdout",
          "text": [
            "0\n",
            "1\n",
            "2\n",
            "3\n",
            "4\n"
          ]
        }
      ]
    },
    {
      "cell_type": "code",
      "source": [
        "for z in range(2,5):\n",
        "  print(z)"
      ],
      "metadata": {
        "colab": {
          "base_uri": "https://localhost:8080/"
        },
        "id": "leEbxX_N7-sv",
        "outputId": "4ac427b8-c036-4a0b-869e-e4ef14c78b99"
      },
      "execution_count": 27,
      "outputs": [
        {
          "output_type": "stream",
          "name": "stdout",
          "text": [
            "2\n",
            "3\n",
            "4\n"
          ]
        }
      ]
    },
    {
      "cell_type": "code",
      "source": [
        "# El tercer parametro es para el incremento\n",
        "for z in range(1,25,2):\n",
        "  print(z)"
      ],
      "metadata": {
        "colab": {
          "base_uri": "https://localhost:8080/"
        },
        "id": "s7-e1B0h8CiL",
        "outputId": "424b37bc-d158-4eb7-8c1c-00e2a111b513"
      },
      "execution_count": 28,
      "outputs": [
        {
          "output_type": "stream",
          "name": "stdout",
          "text": [
            "1\n",
            "3\n",
            "5\n",
            "7\n",
            "9\n",
            "11\n",
            "13\n",
            "15\n",
            "17\n",
            "19\n",
            "21\n",
            "23\n"
          ]
        }
      ]
    },
    {
      "cell_type": "code",
      "source": [
        "# continue se comporta como si el programa hubiera llegado al final del cuerpo\n",
        "# de esa iteración\n",
        "print(\"La instrucción break\")\n",
        "variablez=True # Variable de tipo booleana\n",
        "for x in range(1,6):\n",
        "  print(\"Esto es un print dentro del for\")\n",
        "  if variablez: # Se compara el valor booleano de la variable para entrar al if\n",
        "    print(\"Entró al if\")\n",
        "    break\n",
        "print(\"Fuera del for\")"
      ],
      "metadata": {
        "colab": {
          "base_uri": "https://localhost:8080/"
        },
        "id": "-SRkCQYb8Fc_",
        "outputId": "c9e5fba8-09ca-43b4-8287-f998d08b1a92"
      },
      "execution_count": 29,
      "outputs": [
        {
          "output_type": "stream",
          "name": "stdout",
          "text": [
            "La instrucción break\n",
            "Esto es un print dentro del for\n",
            "Entró al if\n",
            "Fuera del for\n"
          ]
        }
      ]
    },
    {
      "cell_type": "code",
      "source": [
        "print(\"\\nLa instrucción continue:\")\n",
        "for x in range(1,6):\n",
        "  if x==3:\n",
        "    continue\n",
        "  print(\"Dentro del bucle #\",x)\n",
        "print(\"Fuera del bucle.\")"
      ],
      "metadata": {
        "colab": {
          "base_uri": "https://localhost:8080/"
        },
        "id": "G7MxlDc68IHd",
        "outputId": "ee87077f-32b3-4402-fdfd-5d6634f1b89a"
      },
      "execution_count": 30,
      "outputs": [
        {
          "output_type": "stream",
          "name": "stdout",
          "text": [
            "\n",
            "La instrucción continue:\n",
            "Dentro del bucle # 1\n",
            "Dentro del bucle # 2\n",
            "Dentro del bucle # 4\n",
            "Dentro del bucle # 5\n",
            "Fuera del bucle.\n"
          ]
        }
      ]
    },
    {
      "cell_type": "code",
      "source": [
        "# El for puede recorrer los valores de un vector, en este caso asignando a x\n",
        "# el valor que se encuentra dentro del vector\n",
        "frutas=[\"platano\",\"naranja\",\"manzana\"]\n",
        "for x in frutas:\n",
        "  print(x)\n",
        "  if x==\"naranja\":\n",
        "    break"
      ],
      "metadata": {
        "colab": {
          "base_uri": "https://localhost:8080/"
        },
        "id": "TR3-b_Ai8LAo",
        "outputId": "aea852ea-17b6-4ee5-e9c0-89f486b85114"
      },
      "execution_count": 31,
      "outputs": [
        {
          "output_type": "stream",
          "name": "stdout",
          "text": [
            "platano\n",
            "naranja\n"
          ]
        }
      ]
    },
    {
      "cell_type": "code",
      "source": [
        "# else tambien puede ser una linea extra que se puede agregar al final de un ciclo\n",
        "n=0\n",
        "while n!=3:\n",
        "  print(n)\n",
        "  n+=1\n",
        "else:\n",
        "  print(n,\"else\")\n",
        "print() #Para generar una linea en blanco\n",
        "for x in range (0,3):\n",
        "  print(x)\n",
        "else:\n",
        "  print(x,\"else\")"
      ],
      "metadata": {
        "colab": {
          "base_uri": "https://localhost:8080/"
        },
        "id": "UXHMoyg79F2c",
        "outputId": "a9da8d46-8d37-49db-a00f-90441f764a0b"
      },
      "execution_count": 32,
      "outputs": [
        {
          "output_type": "stream",
          "name": "stdout",
          "text": [
            "0\n",
            "1\n",
            "2\n",
            "3 else\n",
            "\n",
            "0\n",
            "1\n",
            "2\n",
            "2 else\n"
          ]
        }
      ]
    },
    {
      "cell_type": "code",
      "source": [
        "# La palabra clave def sirve para declarar funciones\n",
        "def funcion_saludar():\n",
        "  print(\"Hola mundo, desde mi función\")"
      ],
      "metadata": {
        "id": "ETuDZPmV9Ir8"
      },
      "execution_count": 33,
      "outputs": []
    },
    {
      "cell_type": "code",
      "source": [
        "# Parametros en funciones\n",
        "def tablas_multiplicar(x):\n",
        "  for z in range (1,11):\n",
        "    print(x,\"por\",z,\"=\",x*z)\n",
        "  print(\"\\nFin de la función\")"
      ],
      "metadata": {
        "id": "JXebye5Q9Llu"
      },
      "execution_count": 34,
      "outputs": []
    },
    {
      "cell_type": "code",
      "source": [
        "tablas_multiplicar(4)"
      ],
      "metadata": {
        "colab": {
          "base_uri": "https://localhost:8080/"
        },
        "id": "WIUGkV9N9OGU",
        "outputId": "b231f598-62d4-4f84-c899-b66c7a5ca67e"
      },
      "execution_count": 36,
      "outputs": [
        {
          "output_type": "stream",
          "name": "stdout",
          "text": [
            "4 por 1 = 4\n",
            "4 por 2 = 8\n",
            "4 por 3 = 12\n",
            "4 por 4 = 16\n",
            "4 por 5 = 20\n",
            "4 por 6 = 24\n",
            "4 por 7 = 28\n",
            "4 por 8 = 32\n",
            "4 por 9 = 36\n",
            "4 por 10 = 40\n",
            "\n",
            "Fin de la función\n"
          ]
        }
      ]
    },
    {
      "cell_type": "code",
      "execution_count": 1,
      "metadata": {
        "colab": {
          "base_uri": "https://localhost:8080/"
        },
        "id": "csHpZRsE4DtX",
        "outputId": "ac69453f-6d3b-4166-8d40-c185bdcd56d3"
      },
      "outputs": [
        {
          "output_type": "stream",
          "name": "stdout",
          "text": [
            "hola mi nombre es MARCELA PEREZ y mi edad es 24\n",
            "hola mi nombre es RENE FLORES y mi edad es 26\n"
          ]
        }
      ],
      "source": [
        "def presentar(nombre,apellido,edad):\n",
        "  print(\"hola mi nombre es\",nombre,apellido,\"y mi edad es\",edad)\n",
        "\n",
        "\n",
        "presentar(\"MARCELA\",\"PEREZ\",24)\n",
        "presentar(\"RENE\",\"FLORES\",26)\n"
      ]
    },
    {
      "cell_type": "code",
      "source": [
        "def presentar(nombre,apellido=\"Rodriguez\"):\n",
        "  print(\"hola mi nombre es\",nombre,apellido)\n",
        "\n",
        "presentar(\"juan\",\"salazar\")\n",
        "presentar(\"JUAN\")"
      ],
      "metadata": {
        "colab": {
          "base_uri": "https://localhost:8080/"
        },
        "id": "r7pduSRa47jE",
        "outputId": "d7b3e537-9ab5-4420-f477-b01a8861848e"
      },
      "execution_count": 3,
      "outputs": [
        {
          "output_type": "stream",
          "name": "stdout",
          "text": [
            "hola mi nombre es juan salazar\n",
            "hola mi nombre es JUAN Rodriguez\n"
          ]
        }
      ]
    },
    {
      "cell_type": "code",
      "source": [
        "def presentar(nombre,apellido):\n",
        "  print(\"hola mi nombre es\",nombre,apellido)\n",
        "\n",
        "presentar(nombre=\"JORGE\",apellido=\"DOMINGUEZ\")\n",
        "presentar(apellido=\"GURROLA\",nombre=\"EVA\")"
      ],
      "metadata": {
        "colab": {
          "base_uri": "https://localhost:8080/"
        },
        "id": "O7WY3ua56gWR",
        "outputId": "20a4a596-66e2-4161-fd7c-ed55b963573c"
      },
      "execution_count": 5,
      "outputs": [
        {
          "output_type": "stream",
          "name": "stdout",
          "text": [
            "hola mi nombre es JORGE DOMINGUEZ\n",
            "hola mi nombre es EVA GURROLA\n"
          ]
        }
      ]
    },
    {
      "cell_type": "code",
      "source": [
        "def calcularDoble(qaz):\n",
        "  qaz=qaz*2\n",
        "  return qaz"
      ],
      "metadata": {
        "id": "zvdM1F9K7aSP"
      },
      "execution_count": 6,
      "outputs": []
    },
    {
      "cell_type": "code",
      "source": [
        "#asignar el resultado de la division a una variable\n",
        "valor_al_doble=calcularDoble(5)\n",
        "print(valor_al_doble)"
      ],
      "metadata": {
        "colab": {
          "base_uri": "https://localhost:8080/"
        },
        "id": "Pts76UoB7s2n",
        "outputId": "1efb98b1-275a-4738-d2f4-7a62d24265fd"
      },
      "execution_count": 8,
      "outputs": [
        {
          "output_type": "stream",
          "name": "stdout",
          "text": [
            "10\n"
          ]
        }
      ]
    },
    {
      "cell_type": "code",
      "source": [
        "#la variable X no existe, solo existe dentro de la funcion\n",
        "def mifuncion():\n",
        "  variableX=123\n",
        "print(variableX)"
      ],
      "metadata": {
        "colab": {
          "base_uri": "https://localhost:8080/",
          "height": 176
        },
        "id": "rnOLc2zf8hMW",
        "outputId": "55a10d22-cfbc-4035-aceb-3f7549f82a11"
      },
      "execution_count": 9,
      "outputs": [
        {
          "output_type": "error",
          "ename": "NameError",
          "evalue": "name 'variableX' is not defined",
          "traceback": [
            "\u001b[0;31m---------------------------------------------------------------------------\u001b[0m",
            "\u001b[0;31mNameError\u001b[0m                                 Traceback (most recent call last)",
            "\u001b[0;32m/tmp/ipython-input-3873566352.py\u001b[0m in \u001b[0;36m<cell line: 0>\u001b[0;34m()\u001b[0m\n\u001b[1;32m      2\u001b[0m \u001b[0;32mdef\u001b[0m \u001b[0mmifuncion\u001b[0m\u001b[0;34m(\u001b[0m\u001b[0;34m)\u001b[0m\u001b[0;34m:\u001b[0m\u001b[0;34m\u001b[0m\u001b[0;34m\u001b[0m\u001b[0m\n\u001b[1;32m      3\u001b[0m   \u001b[0mvariableX\u001b[0m\u001b[0;34m=\u001b[0m\u001b[0;36m123\u001b[0m\u001b[0;34m\u001b[0m\u001b[0;34m\u001b[0m\u001b[0m\n\u001b[0;32m----> 4\u001b[0;31m \u001b[0mprint\u001b[0m\u001b[0;34m(\u001b[0m\u001b[0mvariableX\u001b[0m\u001b[0;34m)\u001b[0m\u001b[0;34m\u001b[0m\u001b[0;34m\u001b[0m\u001b[0m\n\u001b[0m",
            "\u001b[0;31mNameError\u001b[0m: name 'variableX' is not defined"
          ]
        }
      ]
    },
    {
      "cell_type": "code",
      "source": [
        "def mifuncion():\n",
        "  variable=2\n",
        "  print(\"¿valor de la variable?\",variable)\n",
        "variable=1\n",
        "print(\"¿valor de la variable?\",variable)\n",
        "mifuncion()\n",
        "print(\"¿valor de la variable?\",variable)"
      ],
      "metadata": {
        "colab": {
          "base_uri": "https://localhost:8080/"
        },
        "id": "hUzMg6Rb9C9z",
        "outputId": "672ffc7f-50da-4f37-f63c-c5382fe8fdc5"
      },
      "execution_count": 10,
      "outputs": [
        {
          "output_type": "stream",
          "name": "stdout",
          "text": [
            "¿valor de la variable? 1\n",
            "¿valor de la variable? 2\n",
            "¿valor de la variable? 1\n"
          ]
        }
      ]
    },
    {
      "cell_type": "code",
      "source": [
        "def mifuncion():\n",
        "  global variable\n",
        "  variable=2\n",
        "  print(\"¿valor de la variable?\",variable)\n",
        "variable=1\n",
        "print(\"¿valor de la variable?\",variable)\n",
        "mifuncion()\n",
        "print(\"¿valor de la variable?\",variable)"
      ],
      "metadata": {
        "colab": {
          "base_uri": "https://localhost:8080/"
        },
        "id": "LCRkPVF7-hLu",
        "outputId": "d8ad8fc8-88a8-4803-c0fa-ef3cfc6af15a"
      },
      "execution_count": 25,
      "outputs": [
        {
          "output_type": "stream",
          "name": "stdout",
          "text": [
            "¿valor de la variable? 1\n",
            "¿valor de la variable? 2\n",
            "¿valor de la variable? 2\n"
          ]
        }
      ]
    },
    {
      "cell_type": "code",
      "source": [],
      "metadata": {
        "id": "1QU-hgI2-8m6"
      },
      "execution_count": null,
      "outputs": []
    }
  ]
}