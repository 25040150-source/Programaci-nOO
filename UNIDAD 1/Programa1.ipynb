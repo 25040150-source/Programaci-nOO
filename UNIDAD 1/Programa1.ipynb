{
  "nbformat": 4,
  "nbformat_minor": 0,
  "metadata": {
    "colab": {
      "provenance": [],
      "authorship_tag": "ABX9TyMS/1g13fKogw0yuUSsTIq5",
      "include_colab_link": true
    },
    "kernelspec": {
      "name": "python3",
      "display_name": "Python 3"
    },
    "language_info": {
      "name": "python"
    }
  },
  "cells": [
    {
      "cell_type": "markdown",
      "metadata": {
        "id": "view-in-github",
        "colab_type": "text"
      },
      "source": [
        "<a href=\"https://colab.research.google.com/github/25040150-source/Programaci-nOO/blob/main/UNIDAD%201/Programa1.ipynb\" target=\"_parent\"><img src=\"https://colab.research.google.com/assets/colab-badge.svg\" alt=\"Open In Colab\"/></a>"
      ]
    },
    {
      "cell_type": "markdown",
      "source": [
        "**Programación orientada a objetos**\n",
        "##Unidad 1 Introduccion POO\n",
        "###Maestro: Jose Gabriel Rodriguez Rivas\n",
        "###Alumno: Marcela Perez Gurrrola"
      ],
      "metadata": {
        "id": "EX9FfOxi4j9q"
      }
    },
    {
      "cell_type": "code",
      "source": [
        "variable = input(\"escribe tu nombre \")\n",
        "print(\"tu nombre es\",variable)\n"
      ],
      "metadata": {
        "colab": {
          "base_uri": "https://localhost:8080/"
        },
        "id": "1oLfE9GnbQma",
        "outputId": "052b6b9c-0981-4c0b-dffc-4e99143ad10b"
      },
      "execution_count": null,
      "outputs": [
        {
          "output_type": "stream",
          "name": "stdout",
          "text": [
            "escribe tu nombre marcela\n",
            "tu nombre es marcela\n"
          ]
        }
      ]
    },
    {
      "cell_type": "code",
      "source": [
        "nom = input(\"¿me puedes dar tu noombre por favor? \")\n",
        "ape = input(\"¿me puedes dar tu apellido por favor? \")\n",
        "print(\"gracias\")\n",
        "print(\"tu nombre es\", nom, ape,\".\")"
      ],
      "metadata": {
        "colab": {
          "base_uri": "https://localhost:8080/"
        },
        "id": "JUdRrrJQdJeD",
        "outputId": "986a86d9-4740-4bad-bc71-8d17d89e0226"
      },
      "execution_count": null,
      "outputs": [
        {
          "output_type": "stream",
          "name": "stdout",
          "text": [
            "¿me puedes dar tu noombre por favor? MARCELA\n",
            "¿me puedes dar tu apellido por favor? PEREZ\n",
            "gracias\n",
            "tu nombre es MARCELA PEREZ .\n"
          ]
        }
      ]
    },
    {
      "cell_type": "code",
      "source": [
        "#MARCA Error porque debe convertir el tipo de dato\n",
        "#en si no lo marca pero no hace la acccion qe queremos\n",
        "#hay que convertir a tipo entero porque es cadena\n",
        "x=input(\"dame un numero para multiplicar\")\n",
        "z=x*5\n",
        "print(z)\n"
      ],
      "metadata": {
        "colab": {
          "base_uri": "https://localhost:8080/"
        },
        "id": "kNfcWWOWekRd",
        "outputId": "bb5d2d39-4017-48be-b124-4a7d0e690142"
      },
      "execution_count": null,
      "outputs": [
        {
          "output_type": "stream",
          "name": "stdout",
          "text": [
            "dame un numero para multiplicar7\n",
            "77777\n"
          ]
        }
      ]
    },
    {
      "cell_type": "code",
      "source": [
        "x=int(input(\"dame un numero para multiplicar \"))\n",
        "z=x*5\n",
        "print(z)"
      ],
      "metadata": {
        "colab": {
          "base_uri": "https://localhost:8080/"
        },
        "id": "bbT1prLrfXyF",
        "outputId": "aa77165c-7b7f-48ec-ff75-c40ef95bc4c3"
      },
      "execution_count": null,
      "outputs": [
        {
          "output_type": "stream",
          "name": "stdout",
          "text": [
            "dame un numero para multiplicar 8\n",
            "40\n"
          ]
        }
      ]
    },
    {
      "cell_type": "code",
      "source": [
        "#el doble asterisco es como elevar al cuadrado uno solo multiplica dos eleva al\n",
        "#cuadrado, y el **.5 es como si pusieramos raiz cuadrada\n",
        "cateto_a=float(input(\"inserta la longitud del primer cateto \"))\n",
        "cateto_b=float(input(\"inserta la longitud del segundo cateto \"))\n",
        "hipo=(cateto_a**2+cateto_b**2) ** .5\n",
        "print(\"la longitud de la hipotenusa es: \", hipo)"
      ],
      "metadata": {
        "colab": {
          "base_uri": "https://localhost:8080/"
        },
        "id": "XdSXohY1f82e",
        "outputId": "bb976dc6-31cf-4960-dfc8-3f6ec9d67674"
      },
      "execution_count": null,
      "outputs": [
        {
          "output_type": "stream",
          "name": "stdout",
          "text": [
            "inserta la longitud del primer cateto 10\n",
            "inserta la longitud del segundo cateto 5\n",
            "la longitud de la hipotenusa es:  11.180339887498949\n"
          ]
        }
      ]
    },
    {
      "cell_type": "code",
      "source": [
        "a=3000\n",
        "b=12500\n",
        "if b>a:\n",
        "  print(\"b es mayor que a\")\n",
        "else:\n",
        "  print(\"a es mayor que b\")\n",
        "\n",
        "print (\"fin del if\")\n"
      ],
      "metadata": {
        "colab": {
          "base_uri": "https://localhost:8080/"
        },
        "id": "2BBwSWo8jv8I",
        "outputId": "e2a1732f-c0cc-4b19-b1ac-820c674a2d7c"
      },
      "execution_count": null,
      "outputs": [
        {
          "output_type": "stream",
          "name": "stdout",
          "text": [
            "b es mayor que a\n",
            "fin del if\n"
          ]
        }
      ]
    },
    {
      "cell_type": "code",
      "source": [
        "#Declarar variables\n",
        "#En python no hay nesecidad de declarar el tipo de variable\n",
        "#cuando se le asigna un valor, automaticamente python ya sabe de que tipo es\n",
        "#python es CASE SENSITIVE es decir que es sensible a mayusculas a la hora de declarar variables\n",
        "#por lo tanto no es lo mismo la variable X mayuscula que x minuscula\n",
        "X=5\n",
        "MSG=\"HOLA MUNDO\"\n",
        "print(X)\n",
        "print(MSG)\n",
        "\n"
      ],
      "metadata": {
        "colab": {
          "base_uri": "https://localhost:8080/"
        },
        "id": "wrXuiOo56R0E",
        "outputId": "0bd4737f-2805-43af-ad8e-9b21e3e28d6c"
      },
      "execution_count": null,
      "outputs": [
        {
          "output_type": "stream",
          "name": "stdout",
          "text": [
            "5\n",
            "HOLA MUNDO\n"
          ]
        }
      ]
    },
    {
      "cell_type": "code",
      "source": [
        "#python es debilmente tipado, es decir, no hay necesidad de declarar el tipo de\n",
        "#variable y, ademas, la mimsma variable puede ser entera y en otra string o booleana\n",
        "print(type(X))\n",
        "X=\"HOLA\"\n",
        "print(type(X))"
      ],
      "metadata": {
        "colab": {
          "base_uri": "https://localhost:8080/"
        },
        "id": "yJjgoPKK7ytr",
        "outputId": "e83485b3-c674-43fd-f8ff-0a5b35780ddb"
      },
      "execution_count": null,
      "outputs": [
        {
          "output_type": "stream",
          "name": "stdout",
          "text": [
            "<class 'int'>\n",
            "<class 'str'>\n"
          ]
        }
      ]
    }
  ]
}