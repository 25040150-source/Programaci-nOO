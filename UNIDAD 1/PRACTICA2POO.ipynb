{
  "nbformat": 4,
  "nbformat_minor": 0,
  "metadata": {
    "colab": {
      "provenance": [],
      "authorship_tag": "ABX9TyPQw0u+32SH+n4GhHMbyv1Q",
      "include_colab_link": true
    },
    "kernelspec": {
      "name": "python3",
      "display_name": "Python 3"
    },
    "language_info": {
      "name": "python"
    }
  },
  "cells": [
    {
      "cell_type": "markdown",
      "metadata": {
        "id": "view-in-github",
        "colab_type": "text"
      },
      "source": [
        "<a href=\"https://colab.research.google.com/github/25040150-source/Programaci-nOO/blob/main/UNIDAD%201/PRACTICA2POO.ipynb\" target=\"_parent\"><img src=\"https://colab.research.google.com/assets/colab-badge.svg\" alt=\"Open In Colab\"/></a>"
      ]
    },
    {
      "cell_type": "markdown",
      "source": [
        "#**Programación Orientada a Objetos**\n",
        "##Unidad 1.-\n",
        "###Maestro: José Gabriel Rodriguez Rivas\n",
        "\n",
        "###Alumno: Marcela Pérez Gurrola\n",
        "\n"
      ],
      "metadata": {
        "id": "6O0HGR2XjjxG"
      }
    },
    {
      "cell_type": "code",
      "execution_count": 24,
      "metadata": {
        "id": "Gxn_QzrUgQkD"
      },
      "outputs": [],
      "source": [
        "#DEFINIR UNA CLASE LIBRo\n",
        "#cada obejto creado a partir de esta clase\n",
        "#en python self es una referencia al objeto actual(es decir, a si mismo)\n",
        "#se utiliza para acceder a los atributos y metodos de la clase dentro de la\n",
        "#init es un metodo especial llamado constructor\n",
        "#se ejecuta automaticamente cuando se crea una nueva instancia(objeto de la clase)\n",
        "#sirve para inicializar los atributos del objeto con los valores que se le pasen.\n",
        "\n",
        "class libro:\n",
        "    def __init__(self, titulo, autor, isbn, precio):  #constructor de clase\n",
        "      self.titulo = titulo\n",
        "      self.autor = autor\n",
        "      self.isbn = isbn\n",
        "      self.precio = precio\n",
        "\n",
        "    def mostrar_info(self): #metodo\n",
        "      return f\"{self.titulo} por {self.autor} - ISBN: {self.isbn}, Precio: ${self.precio}\""
      ]
    },
    {
      "cell_type": "code",
      "source": [
        "#crear una instancia concreto de una clase, con datos especificos\n",
        "libro1=libro(\"cien años de soledad\",\"Gabriel Garcia Marquez\",\"9780307474728\",350.00)\n",
        "libro2=libro(\"1984\",\"George Orwell\",\"9780451524935\",220.50)"
      ],
      "metadata": {
        "id": "AKPkhBjBjl6M"
      },
      "execution_count": 25,
      "outputs": []
    },
    {
      "cell_type": "code",
      "source": [
        "print(libro1.mostrar_info())\n",
        "print(libro2.mostrar_info())"
      ],
      "metadata": {
        "colab": {
          "base_uri": "https://localhost:8080/"
        },
        "id": "-Hkc0IxKlHyG",
        "outputId": "a4aa0f6c-8bec-424d-d93a-8bbe00e403ea"
      },
      "execution_count": 26,
      "outputs": [
        {
          "output_type": "stream",
          "name": "stdout",
          "text": [
            "cien años de soledad por Gabriel Garcia Marquez - ISBN: 9780307474728, Precio: $350.0\n",
            "1984 por George Orwell - ISBN: 9780451524935, Precio: $220.5\n"
          ]
        }
      ]
    },
    {
      "cell_type": "code",
      "source": [
        "from datetime import date, timedelta\n",
        "\n",
        "class prestamo:\n",
        "    def __init__(self, libro, cliente, fecha_inicio, fecha_devolucion):  #constructor de clase\n",
        "      self.libro = libro\n",
        "      self.cliente = cliente\n",
        "      self.fecha_inicio = fecha_inicio\n",
        "      self.fecha_devolucion = fecha_devolucion\n",
        "\n",
        "    def verificar_estado(self):\n",
        "        hoy = date.today()\n",
        "        if hoy < self.fecha_inicio:\n",
        "            return f\"El préstamo de '{self.libro.titulo}' aún no inicia.\"\n",
        "        elif self.fecha_inicio <= hoy <= self.fecha_devolucion:\n",
        "            return f\"El préstamo de '{self.libro.titulo}' está VIGENTE.\"\n",
        "        else:\n",
        "            return f\"El préstamo de '{self.libro.titulo}' está VENCIDO.\"\n",
        "    def renovar_prestamo(self, dias_extra):\n",
        "        self.fecha_devolucion += timedelta(days=dias_extra)\n",
        "        return f\"Préstamo renovado. Nueva fecha de devolución: {self.fecha_devolucion}\""
      ],
      "metadata": {
        "id": "Ljc-_srulU9X"
      },
      "execution_count": 27,
      "outputs": []
    },
    {
      "cell_type": "code",
      "source": [
        "prestamo1 = prestamo(libro=libro1,cliente=\"Juan Pérez\",fecha_inicio=date(2025, 9, 10),fecha_devolucion=date(2025, 9, 20))"
      ],
      "metadata": {
        "id": "Q6fpRC0gwyvz"
      },
      "execution_count": 28,
      "outputs": []
    },
    {
      "cell_type": "code",
      "source": [
        "print(prestamo1.verificar_estado())   # Verifica si está vigente o vencido\n",
        "print(prestamo1.renovar_prestamo(7))  # Renueva el préstamo 7 días más\n",
        "print(prestamo1.verificar_estado())"
      ],
      "metadata": {
        "colab": {
          "base_uri": "https://localhost:8080/"
        },
        "id": "IYRm7D3juLQ8",
        "outputId": "6692adf8-c987-4d27-ff13-fd2275714d18"
      },
      "execution_count": 29,
      "outputs": [
        {
          "output_type": "stream",
          "name": "stdout",
          "text": [
            "El préstamo de 'cien años de soledad' está VIGENTE.\n",
            "Préstamo renovado. Nueva fecha de devolución: 2025-09-27\n",
            "El préstamo de 'cien años de soledad' está VIGENTE.\n"
          ]
        }
      ]
    },
    {
      "cell_type": "code",
      "source": [
        "class Venta:\n",
        "    def __init__(self, cliente, libros, fecha):\n",
        "        self.cliente = cliente      # Objeto de tipo Cliente\n",
        "        self.libros = libros        # Lista de objetos Libro\n",
        "        self.total = 0.0            # Inicialmente en 0\n",
        "        self.fecha = fecha          # Fecha de la venta\n",
        "    def calcular_total(self):\n",
        "        self.total = sum(libro.precio for libro in self.libros)\n",
        "        return self.total\n",
        "    def generar_ticket(self):\n",
        "        ticket = f\"=== TICKET DE VENTA ===\\n\"\n",
        "        ticket += f\"Cliente: {self.cliente}\\n\"\n",
        "        ticket += f\"Fecha: {self.fecha}\\n\"\n",
        "        ticket += \"\\nLibros comprados:\\n\"\n",
        "        for libro in self.libros:\n",
        "            ticket += f\" - {libro.titulo} (${libro.precio})\\n\"\n",
        "        ticket += f\"\\nTOTAL: ${self.calcular_total():.2f}\\n\"\n",
        "        ticket += \"========================\"\n",
        "        return ticket"
      ],
      "metadata": {
        "id": "7AUCx8TVvDgW"
      },
      "execution_count": 31,
      "outputs": []
    },
    {
      "cell_type": "code",
      "source": [
        "class cliente:\n",
        "    def __init__(self, nombre, email):\n",
        "        self.nombre = nombre\n",
        "        self.email = email\n",
        "        self.historial = []  # Guardará las ventas realizadas\n",
        "\n",
        "    def comprar_libro(self, venta):\n",
        "        \"\"\"Agrega una venta al historial del cliente\"\"\"\n",
        "        self.historial.append(venta)\n",
        "        return f\"Compra realizada por {self.nombre}: {venta.calcular_total()} pesos.\"\n",
        "\n",
        "    def consultar_historial(self):\n",
        "        \"\"\"Muestra todas las ventas realizadas por el cliente\"\"\"\n",
        "        if not self.historial:\n",
        "            return f\"{self.nombre} no tiene compras registradas.\"\n",
        "\n",
        "        historial_str = f\"Historial de compras de {self.nombre}:\\n\"\n",
        "        for idx, venta in enumerate(self.historial, start=1):\n",
        "            historial_str += f\"\\nVenta {idx} - Fecha: {venta.fecha}\\n\"\n",
        "            for libro in venta.libros:\n",
        "                historial_str += f\"   - {libro.titulo} (${libro.precio})\\n\"\n",
        "            historial_str += f\"   Total: ${venta.total:.2f}\\n\"\n",
        "        return historial_str\n",
        "\n",
        "    def __str__(self):\n",
        "        return f\"{self.nombre} ({self.email})\""
      ],
      "metadata": {
        "id": "3zOe4T-eZ0Rb"
      },
      "execution_count": 38,
      "outputs": []
    },
    {
      "cell_type": "code",
      "source": [
        "libro1 = libro(\"Cien años de soledad\", \"Gabriel García Márquez\", \"9780307474728\", 350.00)\n",
        "libro2 = libro(\"1984\", \"George Orwell\", \"9780451524935\", 220.50)\n",
        "libro3 = libro(\"Don Quijote de la Mancha\", \"Miguel de Cervantes\", \"9788491050297\", 400.00)\n",
        "cliente1 = cliente(\"María López\", \"maria@example.com\")\n",
        "venta1 = Venta(cliente=cliente1, libros=[libro1, libro2, libro3], fecha=date.today())"
      ],
      "metadata": {
        "id": "v3bZtKsjZVhl"
      },
      "execution_count": 46,
      "outputs": []
    },
    {
      "cell_type": "code",
      "source": [
        "print(cliente1.comprar_libro(venta1))\n",
        "print(\"\\n\" + venta1.generar_ticket())\n",
        "print(\"\\n\" + cliente1.consultar_historial())"
      ],
      "metadata": {
        "colab": {
          "base_uri": "https://localhost:8080/"
        },
        "id": "P5Gir5KBZuvz",
        "outputId": "d981455a-4f35-446c-a397-136b12ff05dd"
      },
      "execution_count": 51,
      "outputs": [
        {
          "output_type": "stream",
          "name": "stdout",
          "text": [
            "Compra realizada por María López: 970.5 pesos.\n",
            "\n",
            "=== TICKET DE VENTA ===\n",
            "Cliente: María López (maria@example.com)\n",
            "Fecha: 2025-09-13\n",
            "\n",
            "Libros comprados:\n",
            " - Cien años de soledad ($350.0)\n",
            " - 1984 ($220.5)\n",
            " - Don Quijote de la Mancha ($400.0)\n",
            "\n",
            "TOTAL: $970.50\n",
            "========================\n",
            "\n",
            "Historial de compras de María López:\n",
            "\n",
            "Venta 1 - Fecha: 2025-09-13\n",
            "   - Cien años de soledad ($350.0)\n",
            "   - 1984 ($220.5)\n",
            "   - Don Quijote de la Mancha ($400.0)\n",
            "   Total: $970.50\n",
            "\n",
            "Venta 2 - Fecha: 2025-09-13\n",
            "   - Cien años de soledad ($350.0)\n",
            "   - 1984 ($220.5)\n",
            "   - Don Quijote de la Mancha ($400.0)\n",
            "   Total: $970.50\n",
            "\n",
            "Venta 3 - Fecha: 2025-09-13\n",
            "   - Cien años de soledad ($350.0)\n",
            "   - 1984 ($220.5)\n",
            "   - Don Quijote de la Mancha ($400.0)\n",
            "   Total: $970.50\n",
            "\n",
            "Venta 4 - Fecha: 2025-09-13\n",
            "   - Cien años de soledad ($350.0)\n",
            "   - 1984 ($220.5)\n",
            "   - Don Quijote de la Mancha ($400.0)\n",
            "   Total: $970.50\n",
            "\n"
          ]
        }
      ]
    },
    {
      "cell_type": "code",
      "source": [
        "class Persona:\n",
        "    def __init__(self, nombre):\n",
        "        self.nombre = nombre  # Atributo que guarda el nombre de la persona\n",
        "\n",
        "    def __str__(self):\n",
        "        return f\"Persona: {self.nombre}\""
      ],
      "metadata": {
        "id": "sg82kPY_abed"
      },
      "execution_count": 52,
      "outputs": []
    },
    {
      "cell_type": "code",
      "source": [
        "persona1 = Persona(\"Ana López\")\n",
        "persona2 = Persona(\"Carlos Martínez\")"
      ],
      "metadata": {
        "id": "8gjHhEKAcCeJ"
      },
      "execution_count": 53,
      "outputs": []
    },
    {
      "cell_type": "code",
      "source": [
        "print(persona1)\n",
        "print(persona2)"
      ],
      "metadata": {
        "colab": {
          "base_uri": "https://localhost:8080/"
        },
        "id": "GQVLWKnIcFGX",
        "outputId": "933c88f9-82d5-413a-8b03-08b7c39febe2"
      },
      "execution_count": 54,
      "outputs": [
        {
          "output_type": "stream",
          "name": "stdout",
          "text": [
            "Persona: Ana López\n",
            "Persona: Carlos Martínez\n"
          ]
        }
      ]
    },
    {
      "cell_type": "code",
      "source": [
        "class Trabajador(Persona):\n",
        "    def __init__(self, nombre, puesto):\n",
        "        super().__init__(nombre)  # Llamamos al constructor de Persona\n",
        "        self.puesto = puesto\n",
        "    def registrar_venta(self, venta):\n",
        "        \"\"\"Registra la venta realizada\"\"\"\n",
        "        print(f\" {self.nombre} ({self.puesto}) ha registrado una venta:\")\n",
        "        print(venta.generar_ticket())\n",
        "\n",
        "    def gestionar_inventario(self, libros):\n",
        "        \"\"\"Muestra libros disponibles en inventario\"\"\"\n",
        "        print(f\" Inventario gestionado por {self.nombre} ({self.puesto}):\")\n",
        "        for libro in libros:\n",
        "            print(f\" - {libro.mostrar_info()}\")\n",
        "\n"
      ],
      "metadata": {
        "id": "157MVh1YcHBD"
      },
      "execution_count": 56,
      "outputs": []
    },
    {
      "cell_type": "code",
      "source": [
        "trabajador1 = Trabajador(\"Pedro Ramírez\", \"Cajero\")\n",
        "trabajador1.registrar_venta(venta1)\n",
        "trabajador1.gestionar_inventario([libro1, libro2])\n"
      ],
      "metadata": {
        "colab": {
          "base_uri": "https://localhost:8080/"
        },
        "id": "rs7_g_zYcj84",
        "outputId": "81178034-de27-463b-c531-4ba2ce495787"
      },
      "execution_count": 57,
      "outputs": [
        {
          "output_type": "stream",
          "name": "stdout",
          "text": [
            " Pedro Ramírez (Cajero) ha registrado una venta:\n",
            "=== TICKET DE VENTA ===\n",
            "Cliente: María López (maria@example.com)\n",
            "Fecha: 2025-09-13\n",
            "\n",
            "Libros comprados:\n",
            " - Cien años de soledad ($350.0)\n",
            " - 1984 ($220.5)\n",
            " - Don Quijote de la Mancha ($400.0)\n",
            "\n",
            "TOTAL: $970.50\n",
            "========================\n",
            " Inventario gestionado por Pedro Ramírez (Cajero):\n",
            " - Cien años de soledad por Gabriel García Márquez - ISBN: 9780307474728, Precio: $350.0\n",
            " - 1984 por George Orwell - ISBN: 9780451524935, Precio: $220.5\n"
          ]
        }
      ]
    }
  ]
}