{
  "nbformat": 4,
  "nbformat_minor": 0,
  "metadata": {
    "colab": {
      "provenance": [],
      "authorship_tag": "ABX9TyP5bkz8deX+O5yhMHSv6NjL",
      "include_colab_link": true
    },
    "kernelspec": {
      "name": "python3",
      "display_name": "Python 3"
    },
    "language_info": {
      "name": "python"
    }
  },
  "cells": [
    {
      "cell_type": "markdown",
      "metadata": {
        "id": "view-in-github",
        "colab_type": "text"
      },
      "source": [
        "<a href=\"https://colab.research.google.com/github/25040150-source/Programaci-nOO/blob/main/UNIDAD%201/PRACTICA2POO.ipynb\" target=\"_parent\"><img src=\"https://colab.research.google.com/assets/colab-badge.svg\" alt=\"Open In Colab\"/></a>"
      ]
    },
    {
      "cell_type": "markdown",
      "source": [
        "#**Programación Orientada a Objetos**\n",
        "##Unidad 1.-\n",
        "###Maestro: José Gabriel Rodriguez Rivas\n",
        "\n",
        "###Alumno: Marcela Pérez Gurrola\n",
        "\n"
      ],
      "metadata": {
        "id": "6O0HGR2XjjxG"
      }
    },
    {
      "cell_type": "code",
      "execution_count": null,
      "metadata": {
        "id": "Gxn_QzrUgQkD"
      },
      "outputs": [],
      "source": [
        "#DEFINIR UNA CLASE LIBRo\n",
        "#cada obejto creado a partir de esta clase\n",
        "#en python self es una referencia al objeto actual(es decir, a si mismo)\n",
        "#se utiliza para acceder a los atributos y metodos de la clase dentro de la\n",
        "#init es un metodo especial llamado constructor\n",
        "#se ejecuta automaticamente cuando se crea una nueva instancia(objeto de la clase)\n",
        "#sirve para inicializar los atributos del objeto con los valores que se le pasen.\n",
        "\n",
        "class libro:\n",
        "    def __init__(self, titulo, autor, isbn, precio):  #constructor de clase\n",
        "      self.titulo = titulo\n",
        "      self.autor = autor\n",
        "      self.isbn = isbn\n",
        "      self.precio = precio\n",
        "\n",
        "    def mostrar_info(self): #metodo\n",
        "      return f\"{self.titulo} por {self.autor} - ISBN: {self.isbn}, Precio: ${self.precio}\""
      ]
    },
    {
      "cell_type": "code",
      "source": [
        "#crear una instancia concreto de una clase, con datos especificos\n",
        "libro1=libro(\"cien años de soledad\",\"Gabriel Garcia Marquez\",\"9780307474728\",350.00)\n",
        "libro2=libro(\"1984\",\"George Orwell\",\"9780451524935\",220.50)"
      ],
      "metadata": {
        "id": "AKPkhBjBjl6M"
      },
      "execution_count": null,
      "outputs": []
    },
    {
      "cell_type": "code",
      "source": [
        "print(libro1.mostrar_info())\n",
        "print(libro2.mostrar_info())"
      ],
      "metadata": {
        "colab": {
          "base_uri": "https://localhost:8080/"
        },
        "id": "-Hkc0IxKlHyG",
        "outputId": "051adc17-d528-49d0-b32e-9e151591646d"
      },
      "execution_count": null,
      "outputs": [
        {
          "output_type": "stream",
          "name": "stdout",
          "text": [
            "cien años de soledad por Gabriel Garcia Marquez - ISBN: 9780307474728, Precio: $350.0\n",
            "1984 por George Orwell - ISBN: 9780451524935, Precio: $220.5\n"
          ]
        }
      ]
    },
    {
      "cell_type": "code",
      "source": [],
      "metadata": {
        "id": "Ljc-_srulU9X"
      },
      "execution_count": null,
      "outputs": []
    }
  ]
}