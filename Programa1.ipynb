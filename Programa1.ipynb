{
  "nbformat": 4,
  "nbformat_minor": 0,
  "metadata": {
    "colab": {
      "provenance": [],
      "authorship_tag": "ABX9TyMCnTXL46ByJpE1lQBgJL61",
      "include_colab_link": true
    },
    "kernelspec": {
      "name": "python3",
      "display_name": "Python 3"
    },
    "language_info": {
      "name": "python"
    }
  },
  "cells": [
    {
      "cell_type": "markdown",
      "metadata": {
        "id": "view-in-github",
        "colab_type": "text"
      },
      "source": [
        "<a href=\"https://colab.research.google.com/github/25040150-source/Programaci-nOO/blob/main/Programa1.ipynb\" target=\"_parent\"><img src=\"https://colab.research.google.com/assets/colab-badge.svg\" alt=\"Open In Colab\"/></a>"
      ]
    },
    {
      "cell_type": "code",
      "execution_count": null,
      "metadata": {
        "id": "XJFzxPZ34I0S"
      },
      "outputs": [],
      "source": []
    },
    {
      "cell_type": "markdown",
      "source": [
        "**Programación orientada a objetos**\n",
        "##Unidad 1 Introduccion POO\n",
        "###Maestro: Jose Gabriel Rodirguez Rivas\n",
        "###Alumno: Marcela Perez Gurrrola"
      ],
      "metadata": {
        "id": "EX9FfOxi4j9q"
      }
    },
    {
      "cell_type": "code",
      "source": [
        "#Declarar variables\n",
        "#En python no hay nesecidad de declarar el tipo de variable\n",
        "#cuando se le asigna un valor, automaticamente python ya sabe de que tipo es\n",
        "#python es CASE SENSITIVE es decir que es sensible a mayusculas a la hora de declarar variables\n",
        "#por lo tanto no es lo mismo la variable X mayuscula que x minuscula\n",
        "X=5\n",
        "MSG=\"HOLA MUNDO\"\n",
        "print(X)\n",
        "print(MSG)\n",
        "\n"
      ],
      "metadata": {
        "colab": {
          "base_uri": "https://localhost:8080/"
        },
        "id": "wrXuiOo56R0E",
        "outputId": "0bd4737f-2805-43af-ad8e-9b21e3e28d6c"
      },
      "execution_count": 3,
      "outputs": [
        {
          "output_type": "stream",
          "name": "stdout",
          "text": [
            "5\n",
            "HOLA MUNDO\n"
          ]
        }
      ]
    },
    {
      "cell_type": "code",
      "source": [
        "#python es debilmente tipado, es decir, no hay necesidad de declarar el tipo de\n",
        "#variable y, ademas, la mimsma variable puede ser entera y en otra string o booleana\n",
        "print(type(X))\n",
        "X=\"HOLA\"\n",
        "print(type(X))"
      ],
      "metadata": {
        "id": "yJjgoPKK7ytr",
        "outputId": "e83485b3-c674-43fd-f8ff-0a5b35780ddb",
        "colab": {
          "base_uri": "https://localhost:8080/"
        }
      },
      "execution_count": 4,
      "outputs": [
        {
          "output_type": "stream",
          "name": "stdout",
          "text": [
            "<class 'int'>\n",
            "<class 'str'>\n"
          ]
        }
      ]
    }
  ]
}